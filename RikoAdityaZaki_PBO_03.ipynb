{
  "nbformat": 4,
  "nbformat_minor": 0,
  "metadata": {
    "colab": {
      "provenance": [],
      "authorship_tag": "ABX9TyP4hsSvbypS+m2dZOc6F6jk",
      "include_colab_link": true
    },
    "kernelspec": {
      "name": "python3",
      "display_name": "Python 3"
    },
    "language_info": {
      "name": "python"
    }
  },
  "cells": [
    {
      "cell_type": "markdown",
      "metadata": {
        "id": "view-in-github",
        "colab_type": "text"
      },
      "source": [
        "<a href=\"https://colab.research.google.com/github/Radityaz/2025_PBO_TI1B/blob/main/RikoAdityaZaki_PBO_03.ipynb\" target=\"_parent\"><img src=\"https://colab.research.google.com/assets/colab-badge.svg\" alt=\"Open In Colab\"/></a>"
      ]
    },
    {
      "cell_type": "markdown",
      "source": [
        "#JOBSHEET 03 : KONSTRUKTOR, DESTRUKTOR, DAN ENKAPSULASI"
      ],
      "metadata": {
        "id": "o9ANDPLpDQNn"
      }
    },
    {
      "cell_type": "markdown",
      "source": [
        "##Langkah Praktikum"
      ],
      "metadata": {
        "id": "LOdhaQtODXHT"
      }
    },
    {
      "cell_type": "markdown",
      "source": [
        "###Praktikum 01: Enkapsulasi pada kelas Bank Account"
      ],
      "metadata": {
        "id": "pD0fO0OMDbSc"
      }
    },
    {
      "cell_type": "code",
      "source": [
        "class BankAccount:\n",
        "    def __init__(self, owner, balance):\n",
        "        self.__owner = owner\n",
        "        self.__balance = balance\n",
        "\n",
        "    def deposit(self, amount):\n",
        "        \"\"\"Method untuk menambahkan saldo.\"\"\"\n",
        "        if amount > 0:\n",
        "            self.__balance += amount\n",
        "            print(f\"{amount} telah ditambahkan ke akun {self.__owner}.\")\n",
        "        else:\n",
        "            print(\"Jumlah deposit harus lebih dari 0.\")\n",
        "\n",
        "    def withdraw(self, amount):\n",
        "        \"\"\"Method untuk menarik saldo.\"\"\"\n",
        "        if amount <= self.__balance:\n",
        "            self.__balance -= amount\n",
        "            print(f\"{amount} telah ditarik dari akun {self.__owner}.\")\n",
        "        else:\n",
        "            print(\"Saldo tidak mencukupi.\")\n",
        "\n",
        "    def get_balance(self):\n",
        "        \"\"\"Method untuk mendapatkan informasi saldo terkini.\"\"\"\n",
        "        return self.__balance\n",
        "\n",
        "# Contoh penggunaan\n",
        "if __name__ == \"__main__\":\n",
        "    alice_account = BankAccount(owner=\"Alice\", balance=1000)\n",
        "\n",
        "    # Deposit uang\n",
        "    alice_account.deposit(500)      # Berhasil\n",
        "    alice_account.deposit(-100)     # Gagal (validasi)\n",
        "\n",
        "    # Withdraw uang\n",
        "    alice_account.withdraw(300)     # Berhasil\n",
        "    alice_account.withdraw(2000)    # Gagal (saldo tidak cukup)\n",
        "\n",
        "    # Mendapatkan saldo\n",
        "    current_balance = alice_account.get_balance()\n",
        "    print(f\"Saldo terakhir di akun {alice_account._BankAccount__owner}: {current_balance}\")\n"
      ],
      "metadata": {
        "colab": {
          "base_uri": "https://localhost:8080/"
        },
        "id": "DwdeKr5REwEQ",
        "outputId": "9025ef4d-ead3-4ffc-d7d9-c7049e1c015e"
      },
      "execution_count": 2,
      "outputs": [
        {
          "output_type": "stream",
          "name": "stdout",
          "text": [
            "500 telah ditambahkan ke akun Alice.\n",
            "Jumlah deposit harus lebih dari 0.\n",
            "300 telah ditarik dari akun Alice.\n",
            "Saldo tidak mencukupi.\n",
            "Saldo terakhir di akun Alice: 1200\n"
          ]
        }
      ]
    },
    {
      "cell_type": "markdown",
      "source": [
        "###Praktikum 02: Enkapsulasi pada kelas Employee"
      ],
      "metadata": {
        "id": "lpBfliD5HfZ_"
      }
    },
    {
      "cell_type": "code",
      "source": [
        "class Employee:\n",
        "  def __init__(self,name, salary):\n",
        "    self.__name = name\n",
        "    self.__salary = salary\n",
        "\n",
        "  def update_salary(self, increase):\n",
        "    if increase > 0:\n",
        "      self.__salary += increase\n",
        "      print(f'Gaji telah dinaikkan sebesar {increase}.')\n",
        "    else:\n",
        "        print(\"Nilai kenaikan haris lebih dari 0.\")\n",
        "\n",
        "  def set_salary(self, new_salary):\n",
        "    if new_salary > 0:\n",
        "      self.__salary = new_salary\n",
        "      print(f'Gaji telah diubah menjadi {new_salary}.')\n",
        "    else:\n",
        "      print(\"Nilai kenaikan tidak dapat bernilai negatif.\")\n",
        "\n",
        "  def get_salary(self, get_salary):\n",
        "    return self.__salary\n",
        "\n",
        "  def get_employee_info(self):\n",
        "    return f\"Nama: {self.__name} Gaji: {self.__salary}\"\n",
        "\n",
        "if __name__ == \"__main__\":\n",
        "    employee1 = Employee(\"John Doe\", 50000)\n",
        "    print(employee1.get_employee_info())\n",
        "\n",
        "    employee1.update_salary(5000)\n",
        "    print(employee1.get_employee_info())\n",
        "\n",
        "    employee1.set_salary(60000)\n",
        "    print(employee1.get_employee_info())\n",
        "\n",
        ""
      ],
      "metadata": {
        "colab": {
          "base_uri": "https://localhost:8080/"
        },
        "id": "LybMBPmwHenz",
        "outputId": "253bd04a-37ae-4371-d6a3-a83e7f381326"
      },
      "execution_count": 7,
      "outputs": [
        {
          "output_type": "stream",
          "name": "stdout",
          "text": [
            "Nama: John Doe Gaji: 50000\n",
            "Gaji telah dinaikkan sebesar 5000.\n",
            "Nama: John Doe Gaji: 55000\n",
            "Gaji telah diubah menjadi 60000.\n",
            "Nama: John Doe Gaji: 60000\n"
          ]
        }
      ]
    }
  ]
}