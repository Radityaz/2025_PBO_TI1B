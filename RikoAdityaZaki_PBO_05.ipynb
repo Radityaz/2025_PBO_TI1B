{
  "nbformat": 4,
  "nbformat_minor": 0,
  "metadata": {
    "colab": {
      "provenance": [],
      "authorship_tag": "ABX9TyMTda87UWCyQye8FB2GIwqA",
      "include_colab_link": true
    },
    "kernelspec": {
      "name": "python3",
      "display_name": "Python 3"
    },
    "language_info": {
      "name": "python"
    }
  },
  "cells": [
    {
      "cell_type": "markdown",
      "metadata": {
        "id": "view-in-github",
        "colab_type": "text"
      },
      "source": [
        "<a href=\"https://colab.research.google.com/github/Radityaz/2025_PBO_TI1B/blob/main/RikoAdityaZaki_PBO_05.ipynb\" target=\"_parent\"><img src=\"https://colab.research.google.com/assets/colab-badge.svg\" alt=\"Open In Colab\"/></a>"
      ]
    },
    {
      "cell_type": "markdown",
      "source": [
        "#JOBSHEET 04:  MEMAHAMI PEWARISAN (INHERITANCE) DALAM PYTHON"
      ],
      "metadata": {
        "id": "A0al9bezruoT"
      }
    },
    {
      "cell_type": "markdown",
      "source": [
        "##PRAKTIKUM"
      ],
      "metadata": {
        "id": "o4S9gOobr1Mf"
      }
    },
    {
      "cell_type": "markdown",
      "source": [
        "###Praktikum 01: Inheritance Dasar"
      ],
      "metadata": {
        "id": "_-2PtsgmsA2G"
      }
    },
    {
      "cell_type": "code",
      "execution_count": null,
      "metadata": {
        "id": "2SLNiqjxpH3s"
      },
      "outputs": [],
      "source": [
        "class Kendaraan:\n",
        "    def __init__(self):\n",
        "        self.merk = merk\n",
        "\n",
        "    def mulai_mesin(self):\n",
        "        print(f\"Mesin kendaraan {self.merk} dinyalakan.\")\n",
        "\n",
        "class Mobil(Kendaraan):\n",
        "    def __init__(self,merk,warna):\n",
        "        self.merk = merk\n",
        "        self.warna = warna\n",
        "\n",
        "    def info_mobil(self):\n",
        "        print(f\"Ini adalah mobil {self.merk} berwarna {self.warna}.\")\n",
        "\n",
        "if __name__ == \"__main__\":\n",
        "    mobil_tesla = Mobil(\"Tesla Model S\", \"Merah\")\n",
        "\n",
        "    mobil_tesla.info_mobil()\n",
        "    mobil_tesla.mulai_mesin()\n",
        "\n",
        "    print(f\"Merk mobil : {mobil_tesla.merk}\")"
      ]
    },
    {
      "cell_type": "markdown",
      "source": [
        "###Praktikum 02: Menggunakan super() dalam konstruktor"
      ],
      "metadata": {
        "id": "6yqdIalX_9N2"
      }
    },
    {
      "cell_type": "code",
      "source": [
        "class Person:\n",
        "    def __init__(self,nama,usia):\n",
        "        print(f\"(Memanggil __init__ Person untuk '{nama}')\")\n",
        "        self.nama = nama\n",
        "        self.usia = usia\n",
        "\n",
        "    def perkenalkan_diri(self):\n",
        "        print(f\"Halo, nama saya {self.nama}, usia saya {self.usia} tahun.\")\n",
        "\n",
        "\n",
        "class Student(Person):\n",
        "    def __init__(self,nama,usia,student_id,jurusan):\n",
        "        print(f\"(Menanggil __init__ Student untuk '{nama}')\")\n",
        "        super().__init__(nama,usia)\n",
        "        self.student_id = student_id\n",
        "        self.jurusan = jurusan\n",
        "        print(f\"(Inisialisasi atribut Student selesai untuk '{nama}')\")\n",
        "\n",
        "    def info_akademik(self):\n",
        "        super().perkenalkan_diri()\n",
        "        print(f\"Saya adalah mahasiswa dengan ID {self.student_id},Jurusan {self.jurusan}.\")\n",
        "\n",
        "\n",
        "if __name__ == \"__main__\":\n",
        "    dosen = Person(\"Pak Anton\", 45)\n",
        "    print(\"-\" * 20)\n",
        "    dosen.perkenalkan_diri()\n",
        "    print(\"\\n\" + \"=\"  * 30 + \"\\n\")\n",
        "\n",
        "    mahasiswa = Student(\"Dewi\",20,\"MHS001\",\"Teknik Komputer\")\n",
        "    print(\"-\" * 20)\n",
        "    mahasiswa.perkenalkan_diri()\n",
        "    print(\"-\" * 20)\n",
        "    mahasiswa.info_akademik()\n",
        "\n",
        "    print(f\"\\nUsia mahasiswa {mahasiswa.nama} : {mahasiswa.usia}\")\n",
        "\n",
        "\n"
      ],
      "metadata": {
        "id": "xAz2o3stACl4"
      },
      "execution_count": null,
      "outputs": []
    },
    {
      "cell_type": "markdown",
      "source": [
        "###Praktikum 03: Method Overriding dan super()"
      ],
      "metadata": {
        "id": "Wo4jZo5pAGlw"
      }
    },
    {
      "cell_type": "code",
      "source": [
        "class Hewan:\n",
        "    def __init__(self,nama):\n",
        "        self.nama = nama\n",
        "\n",
        "    def bersuara(self):\n",
        "        print(f\"{self.nama} mengeluarkan suara generik.\")\n",
        "\n",
        "    def tampilkan_info(self):\n",
        "        print(f\"Ini adalah hewan bernama {self.nama}.\")\n",
        "\n",
        "class Kucing(Hewan):\n",
        "    def __init__(self,nama,ras):\n",
        "        super().__init__(nama)\n",
        "        self.ras = ras\n",
        "\n",
        "    def bersuara(self):\n",
        "        print(f\"{self.nama} (Kucing) mengeong: Meow!\")\n",
        "\n",
        "    def tampilkan_info(self):\n",
        "        super().tampilkan_info()\n",
        "        print(f\"Ini adalah kucing ras {self.ras}.\")\n",
        "\n",
        "if __name__ == \"__main__\":\n",
        "    hewan_umum = Hewan(\"Makhluk\")\n",
        "    kucing_persia = Kucing(\"Puspus\",\"persia\")\n",
        "\n",
        "    print(\"Info Kucing Persia:\")\n",
        "    kucing_persia.tampilkan_info()\n",
        "    kucing_persia.bersuara()\n",
        ""
      ],
      "metadata": {
        "id": "skehrAQfAKEV"
      },
      "execution_count": null,
      "outputs": []
    },
    {
      "cell_type": "markdown",
      "source": [
        "###Praktikum 04: Multi-level Inheritance (Pewarisan Bertingkat)"
      ],
      "metadata": {
        "id": "lHFCfp4dANE_"
      }
    },
    {
      "cell_type": "code",
      "source": [
        "class Organisme:\n",
        "    def __init__(self,nama):\n",
        "        self.nama = nama\n",
        "        print(f\"Organisme '{self.nama} diciptakan.\")\n",
        "\n",
        "    def bernapas(self):\n",
        "        print(f\"{self.nama} sedang bernapas.\")\n",
        "\n",
        "class Hewan(Organisme):\n",
        "    def __init__(self,nama,jenis_makanan):\n",
        "        super().__init__(nama)\n",
        "        self.jenis_makanan = jenis_makanan\n",
        "        print(f\"Hewan '{self.nama}' adalah {self.jenis_makanan}.\")\n",
        "\n",
        "    def bergerak(self):\n",
        "        print(f\"{self.nama} sedang bergerak.\")\n",
        "\n",
        "class Mamalia(Hewan):\n",
        "    def __init__(self,nama,jenis_makanan,jumlah_kaki):\n",
        "        super().__init__(nama,jenis_makanan)\n",
        "        self.jumlah_kaki = jumlah_kaki\n",
        "        print(f\"Mamalia '{self.nama}' memiliki {self.jumlah_kaki} kaki.\")\n",
        "\n",
        "    def menyusui(self):\n",
        "        print(f\"{self.nama} sedang Menyusui.\")\n",
        "\n",
        "if __name__ == \"__main__\":\n",
        "    kucing = Mamalia(\"Kucing Persia\",\"Karnivora\",4)\n",
        "\n",
        "    kucing.menyusui()\n",
        "\n",
        "    kucing.bergerak()\n",
        "    print(f\"Jenis makanan {kucing.jenis_makanan}\")\n",
        "\n",
        "    kucing.bernapas()\n",
        "    print(f\"Nama organisme : {kucing.nama}\")\n",
        "\n"
      ],
      "metadata": {
        "id": "asEAG-wCAUe2"
      },
      "execution_count": null,
      "outputs": []
    },
    {
      "cell_type": "markdown",
      "source": [
        "###Praktikum 05: Hierarchical Inheritance"
      ],
      "metadata": {
        "id": "2CRpn5YTAWiA"
      }
    },
    {
      "cell_type": "code",
      "source": [
        "import locale\n",
        "\n",
        "try:\n",
        "    locale.setlocale(locale.LC_ALL, 'id_ID.UTF-8')\n",
        "except locale.Error:\n",
        "    print(\"Locale id_ID.UTF-8 tidak tersedia, menggunakan local default\")\n",
        "\n",
        "def format_rupiah(angka):\n",
        "    return locale.currency(angka, grouping=True, symbol='Rp ')\n",
        "\n",
        "class Pegawai:\n",
        "    def __init__(self,nama, id_pegawai, gaji_pokok):\n",
        "        self.nama = nama\n",
        "        self.id_pegawai = id_pegawai\n",
        "        self.gaji_pokok = gaji_pokok\n",
        "\n",
        "    def hitung_gaji(self):\n",
        "        return self.gaji_pokok\n",
        "\n",
        "    def tampilkan_info(self):\n",
        "        print(f\"ID : {self.id_pegawai}, Nama: {self.nama}\")\n",
        "        print(f\"Gaji Pokok: {format_rupiah(self.gaji_pokok)}\")\n",
        "\n",
        "class Manager(Pegawai):\n",
        "    def __init__(self,nama,id_pegawai,gaji_pokok, tunjangan_jabatan):\n",
        "        super().__init__(nama,id_pegawai,gaji_pokok)\n",
        "        self.tunjangan_jabatan = tunjangan_jabatan\n",
        "\n",
        "    def hitung_gaji(self):\n",
        "        gaji_total = super().hitung_gaji() + self.tunjangan_jabatan\n",
        "        return gaji_total\n",
        "\n",
        "    def tampilkan_info(self):\n",
        "        print(\"---Info Manager---\")\n",
        "        super().tampilkan_info()\n",
        "        print(f\"Tunjangan jabatan: {format_rupiah(self.tunjangan_jabatan)}\")\n",
        "        print(f\"Total Gaji: {format_rupiah(self.hitung_gaji())}\")\n",
        "\n",
        "class StafTeknis(Pegawai):\n",
        "    def __init__(self,nama, id_pegawai, gaji_pokok,keahlian,bonus_keahlian):\n",
        "        super().__init__(nama,id_pegawai,gaji_pokok)\n",
        "        self.keahlian = keahlian\n",
        "        self.bonus_keahlian = bonus_keahlian\n",
        "\n",
        "    def hitung_gaji(self):\n",
        "        gaji_total = super().hitung_gaji() + self.bonus_keahlian\n",
        "        return gaji_total\n",
        "\n",
        "    def tampilkan_info(self):\n",
        "        print(\"---Info Staf Teknis---\")\n",
        "        super().tampilkan_info()\n",
        "        print(f\"Keahlian: {self.keahlian}\")\n",
        "        print(f\"Bonus Keahlian: {self.bonus_keahlian}\")\n",
        "        print(f\"Total Gaji: {format_rupiah(self.hitung_gaji())}\")\n",
        "\n",
        "\n",
        "if __name__ == \"__main__\":\n",
        "    manager1 = Manager(\"Budi Santoso\",\"M001\",10000000,5000000)\n",
        "    staf1 = StafTeknis(\"Citra Lestari\",\"P005\",7000000,\"Python Programming\",1500000)\n",
        "    pegawai_baru = Pegawai(\"Rian\",\"P005\",5000000)\n",
        "\n",
        "    print(\"Menampilkan Informasi Pegawai:\")\n",
        "    manager1.tampilkan_info()\n",
        "    print(\"-\" * 30)\n",
        "    staf1.tampilkan_info()\n",
        "    print(\"-\" * 30)\n",
        "\n",
        "    print(\"---Info Pegawai Baru---\")\n",
        "    pegawai_baru.tampilkan_info()\n",
        "    print(f\"Total Gaji : {format_rupiah(pegawai_baru.hitung_gaji())}\")\n",
        "    print(\"-\" * 30)"
      ],
      "metadata": {
        "id": "KasxzZOlAawu"
      },
      "execution_count": null,
      "outputs": []
    },
    {
      "cell_type": "markdown",
      "source": [
        "###Praktikum 06: Memeriksa Tipe Instance dengan instance()"
      ],
      "metadata": {
        "id": "ZPs5lJsBAdkj"
      }
    },
    {
      "cell_type": "code",
      "source": [
        "from tarfile import data_filter\n",
        "\n",
        "\n",
        "class BentukGeometri:\n",
        "    def __init__(self,nama_bentuk):\n",
        "        self.nama = nama_bentuk\n",
        "    def tampilkan_nama(self):\n",
        "        print(f\"Ini adalah bentuk: {self.nama}.\")\n",
        "    def hitung_luas(self):\n",
        "        print(f\"Luas {self.nama} tidak dapat dihitung (generik).\")\n",
        "\n",
        "class PersegiPanjang(BentukGeometri):\n",
        "    def __init__(self,panjang,lebar):\n",
        "        super().__init__(\"Persegi Panjang\")\n",
        "        self.panjang = panjang\n",
        "        self.lebar = lebar\n",
        "    def hitung_luas(self):\n",
        "        luas = self.panjang * self.lebar\n",
        "        print(f\"Luas {self.nama}: {luas}\")\n",
        "\n",
        "class Segitiga(BentukGeometri):\n",
        "    def __init__(self,alas,tinggi):\n",
        "        super().__init__(\"Segitiga\")\n",
        "        self.alas = alas\n",
        "        self.tinggi = tinggi\n",
        "    def hitung_luas(self):\n",
        "        luas = 0.5 * self.alas * self.tinggi\n",
        "        print(f\"Luas { self.nama} : {luas}\")\n",
        "\n",
        "def proses_bentuk(bentuk):\n",
        "        print(f\"\\nMemproses objek : {type(bentuk)}\")\n",
        "\n",
        "        if isinstance(bentuk, BentukGeometri):\n",
        "            bentuk.tampilkan_nama()\n",
        "            print(\"Objek ini adalah instance dari BentukGeometri (atau turunannya).\")\n",
        "\n",
        "        if isinstance(bentuk,PersegiPanjang):\n",
        "            print(\"-> Objek ini juga instance dari PersegiPanjang.\")\n",
        "        elif isinstance(bentuk,Segitiga):\n",
        "            print(\"-> Onjek ini BUKAN instance dari BentukGeometri.\")\n",
        "\n",
        "        if isinstance(bentuk,str):\n",
        "            print(\"Objek ini adalah string.\")\n",
        "\n",
        "if __name__ == \"__main__\":\n",
        "    pp = PersegiPanjang(4,3)\n",
        "    seg = Segitiga(5,2)\n",
        "    bg = BentukGeometri(\"Lingkaran\")\n",
        "    teks = \"Ini String\"\n",
        "\n",
        "    daftar_objek = [pp,seg,bg,teks]\n",
        "\n",
        "    for obj in daftar_objek:\n",
        "        proses_bentuk(obj)"
      ],
      "metadata": {
        "id": "RD1hO0EYAgLR"
      },
      "execution_count": null,
      "outputs": []
    },
    {
      "cell_type": "markdown",
      "source": [
        "##PENUGASAN"
      ],
      "metadata": {
        "id": "SV4YEkgBr-fG"
      }
    },
    {
      "cell_type": "code",
      "source": [
        "class Mahasiswa:\n",
        "    def __init__(self,nama,nim,ipk):\n",
        "        self.nama = nama\n",
        "        self.nim = nim\n",
        "        self.ipk = ipk\n",
        "\n",
        "    def tampilkan_info(self):\n",
        "        print(f\"Nama: {self.nama}\\nNIM: {self.nim}\\nIPK: {self.ipk}\")\n",
        "\n",
        "    def hitung_predikat(self):\n",
        "        grade = float(self.ipk)\n",
        "\n",
        "        if grade >= 3.5:\n",
        "            return print(\"IPK anda Dengan Pujian\")\n",
        "        elif 3.0 <= grade < 3.5:\n",
        "            return  print('IPK anda sangat Memuaskan')\n",
        "        elif 2.5 <= grade < 3.0:\n",
        "            return print(\"IPK anda memuaskan\")\n",
        "        elif grade <= 2.5:\n",
        "            return print(\"IPK anda cukup\")\n",
        "\n",
        "class MahasiswaSarjana(Mahasiswa):\n",
        "    def __init__(self,nama,nim,ipk,semester,sks_lulus):\n",
        "        super().__init__(nama,nim,ipk)\n",
        "        self.semester = semester\n",
        "        self.sks_lulus = sks_lulus\n",
        "\n",
        "    def tampilkan_info(self):\n",
        "        super().tampilkan_info()\n",
        "        print(f\"\\nSemester: {self.semester}\\nSKS Lulus: {self.sks_lulus}\")\n",
        "\n",
        "class MahasiswaMagister(Mahasiswa):\n",
        "    def __init__(self,nama,nim,ipk,judul_thesis,nama_pembimbing):\n",
        "        super().__init__(nama,nim,ipk)\n",
        "        self.judul_tesis = judul_thesis\n",
        "        self.nama_pembimbing = nama_pembimbing\n",
        "\n",
        "    def tampilkan_info(self):\n",
        "        super().tampilkan_info()\n",
        "        print(f\"\\nJudul Tesis: {self.judul_tesis}\\nNama_Pembimbing: {self.nama_pembimbing}\")\n",
        "\n",
        "    def hitung_predikat(self):\n",
        "        super().hitung_predikat()\n",
        "\n",
        "\n",
        "\n",
        "\n",
        "\n",
        "if __name__ == \"__main__\":\n",
        "    mahasiswa01 = MahasiswaSarjana(\"Riko\",1234567,2,2,40)\n",
        "    mahasiswa01.tampilkan_info()\n",
        "\n",
        "    mahasiswa02 = MahasiswaMagister(\"Reyhan\",12345678,4,\"Makan Lele\",\"Pak Riko\")\n",
        "    mahasiswa02.tampilkan_info()\n",
        "    mahasiswa02.hitung_predikat()"
      ],
      "metadata": {
        "id": "iIph6YINr_ql"
      },
      "execution_count": null,
      "outputs": []
    }
  ]
}