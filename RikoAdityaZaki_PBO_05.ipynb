{
  "nbformat": 4,
  "nbformat_minor": 0,
  "metadata": {
    "colab": {
      "provenance": [],
      "authorship_tag": "ABX9TyMbG9sLrNKc/dnwtH95CfcS",
      "include_colab_link": true
    },
    "kernelspec": {
      "name": "python3",
      "display_name": "Python 3"
    },
    "language_info": {
      "name": "python"
    }
  },
  "cells": [
    {
      "cell_type": "markdown",
      "metadata": {
        "id": "view-in-github",
        "colab_type": "text"
      },
      "source": [
        "<a href=\"https://colab.research.google.com/github/Radityaz/2025_PBO_TI1B/blob/main/RikoAdityaZaki_PBO_05.ipynb\" target=\"_parent\"><img src=\"https://colab.research.google.com/assets/colab-badge.svg\" alt=\"Open In Colab\"/></a>"
      ]
    },
    {
      "cell_type": "markdown",
      "source": [
        "#JOBSHEET 04:  MEMAHAMI PEWARISAN (INHERITANCE) DALAM PYTHON"
      ],
      "metadata": {
        "id": "A0al9bezruoT"
      }
    },
    {
      "cell_type": "markdown",
      "source": [
        "##PRAKTIKUM"
      ],
      "metadata": {
        "id": "o4S9gOobr1Mf"
      }
    },
    {
      "cell_type": "markdown",
      "source": [
        "###Praktikum 01: Inheritance Dasar"
      ],
      "metadata": {
        "id": "_-2PtsgmsA2G"
      }
    },
    {
      "cell_type": "code",
      "execution_count": null,
      "metadata": {
        "id": "2SLNiqjxpH3s"
      },
      "outputs": [],
      "source": []
    },
    {
      "cell_type": "markdown",
      "source": [
        "##LATIHAN"
      ],
      "metadata": {
        "id": "SV4YEkgBr-fG"
      }
    },
    {
      "cell_type": "code",
      "source": [],
      "metadata": {
        "id": "iIph6YINr_ql"
      },
      "execution_count": null,
      "outputs": []
    }
  ]
}