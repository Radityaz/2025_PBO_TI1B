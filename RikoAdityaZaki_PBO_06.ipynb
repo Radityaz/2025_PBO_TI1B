{
  "nbformat": 4,
  "nbformat_minor": 0,
  "metadata": {
    "colab": {
      "provenance": [],
      "authorship_tag": "ABX9TyM9NP8yJW8CbkV5skzOmml5",
      "include_colab_link": true
    },
    "kernelspec": {
      "name": "python3",
      "display_name": "Python 3"
    },
    "language_info": {
      "name": "python"
    }
  },
  "cells": [
    {
      "cell_type": "markdown",
      "metadata": {
        "id": "view-in-github",
        "colab_type": "text"
      },
      "source": [
        "<a href=\"https://colab.research.google.com/github/Radityaz/2025_PBO_TI1B/blob/main/RikoAdityaZaki_PBO_06.ipynb\" target=\"_parent\"><img src=\"https://colab.research.google.com/assets/colab-badge.svg\" alt=\"Open In Colab\"/></a>"
      ]
    },
    {
      "cell_type": "markdown",
      "source": [
        "#JOBSHEET 05: POLIMORFISME DAN MEMAHAMI OVERLOADING/OVERRIDING\n"
      ],
      "metadata": {
        "id": "v-6_nx2XXKsz"
      }
    },
    {
      "cell_type": "markdown",
      "source": [
        "## Latihan"
      ],
      "metadata": {
        "id": "In-zSRyOXPQn"
      }
    },
    {
      "cell_type": "markdown",
      "source": [
        "###  Praktikum 01: Polimorfisme dengan Inheritance dan Overriding"
      ],
      "metadata": {
        "id": "7m-uqKljXRGx"
      }
    },
    {
      "cell_type": "code",
      "execution_count": 1,
      "metadata": {
        "colab": {
          "base_uri": "https://localhost:8080/"
        },
        "id": "DjKaKDwuXJfw",
        "outputId": "dfe7a6be-261a-48a8-e789-ff6b17cc1caf"
      },
      "outputs": [
        {
          "output_type": "stream",
          "name": "stdout",
          "text": [
            "\n",
            "Aksi Burung:\n",
            "-- Aksi untuk elang Jawa --\n",
            "elang Jawa terbang tinggi melayang di angkasa.\n",
            "elang Jawa berteriak nyaring!\n",
            "---------------\n",
            "-- Aksi untuk Pipit gereja --\n",
            "Pipit gereja terbang cepat di antara pepohonan.\n",
            "Pipit gereja berkicau merdu: Cit cit!\n",
            "---------------\n",
            "-- Aksi untuk Burung Misterius --\n",
            "Burung Misterius terbang dengan cara umum.\n",
            "Burung Misterius mengeluarkan suara burung\n",
            "---------------\n"
          ]
        }
      ],
      "source": [
        "from time import sleep\n",
        "\n",
        "\n",
        "class Burung:\n",
        "    def __init__(self,nama):\n",
        "        self.nama = nama\n",
        "\n",
        "    def terbang(self):\n",
        "        print(f\"{self.nama} terbang dengan cara umum.\")\n",
        "\n",
        "    def bersuara(self):\n",
        "        print(f\"{self.nama} mengeluarkan suara burung\")\n",
        "\n",
        "class Elang(Burung):\n",
        "    def __init__(self,nama,rentang_sayap):\n",
        "        super().__init__(nama)\n",
        "        self.rentang_sayap = rentang_sayap\n",
        "\n",
        "    def terbang(self):\n",
        "        print(f\"{self.nama} terbang tinggi melayang di angkasa.\")\n",
        "\n",
        "    def bersuara(self):\n",
        "        print(f\"{self.nama} berteriak nyaring!\")\n",
        "\n",
        "class Pipit(Burung):\n",
        "    def __init__(self,nama,warna_bulu):\n",
        "        super().__init__(nama)\n",
        "        self.warna_bulu = warna_bulu\n",
        "\n",
        "    def terbang(self):\n",
        "        print(f\"{self.nama} terbang cepat di antara pepohonan.\")\n",
        "\n",
        "    def bersuara(self):\n",
        "        print(f\"{self.nama} berkicau merdu: Cit cit!\")\n",
        "\n",
        "def demonstrasi(daftar_burung):\n",
        "    print(\"\\nAksi Burung:\")\n",
        "    for burung in daftar_burung:\n",
        "        print(f\"-- Aksi untuk {burung.nama} --\")\n",
        "        burung.terbang()\n",
        "        burung.bersuara()\n",
        "        print(\"-\" * 15)\n",
        "\n",
        "if __name__ == \"__main__\":\n",
        "    elangJawa = Elang(\"elang Jawa\",1.5)\n",
        "    pipitgereja = Pipit(\"Pipit gereja\", \"Coklat\")\n",
        "    burungAneh = Burung(\"Burung Misterius\")\n",
        "\n",
        "    koleksiBurung = [elangJawa,pipitgereja,burungAneh]\n",
        "\n",
        "    demonstrasi(koleksiBurung)"
      ]
    },
    {
      "cell_type": "markdown",
      "source": [
        "### Praktikum 02: Polimorfisme dengan Duck Typing"
      ],
      "metadata": {
        "id": "cLfxm2TTXZFC"
      }
    },
    {
      "cell_type": "code",
      "source": [
        "class Kucing:\n",
        "    def bersuara(self):\n",
        "        print(\"Kucing : Meow!\")\n",
        "\n",
        "class Anjing:\n",
        "    def bersuara(self):\n",
        "        print(\"Anjing: Guk guk!\")\n",
        "\n",
        "class Bebek:\n",
        "    def bersuara(self):\n",
        "        print(\"Bebek: Kwek kwek!\")\n",
        "\n",
        "class Mobil:\n",
        "    def jalankan(self):\n",
        "        print(\"Mobil: Bruuuum!\")\n",
        "\n",
        "def buat_suara(objekyangbersuara):\n",
        "    try:\n",
        "        objekyangbersuara.bersuara()\n",
        "    except AttributeError:\n",
        "        print(f\"Objek {type(objekyangbersuara).__name__} tidak bisa bersuara\")\n",
        "\n",
        "if __name__ == \"__main__\":\n",
        "    kucing1 = Kucing()\n",
        "    anjing1 = Anjing()\n",
        "    bebek1 = Bebek()\n",
        "    mobil1 = Mobil()\n",
        "\n",
        "    daftar_objek = [kucing1,anjing1,bebek1,mobil1]\n",
        "\n",
        "    print(\"Demonstrasi Duck Typing:\")\n",
        "    for item in daftar_objek:\n",
        "        buat_suara(item)"
      ],
      "metadata": {
        "colab": {
          "base_uri": "https://localhost:8080/"
        },
        "id": "DpjZ3ZhnXcRB",
        "outputId": "fe95d68b-2304-4b3f-fdd2-43c17c101695"
      },
      "execution_count": 2,
      "outputs": [
        {
          "output_type": "stream",
          "name": "stdout",
          "text": [
            "Demonstrasi Duck Typing:\n",
            "Kucing : Meow!\n",
            "Anjing: Guk guk!\n",
            "Bebek: Kwek kwek!\n",
            "Objek Mobil tidak bisa bersuara\n"
          ]
        }
      ]
    },
    {
      "cell_type": "markdown",
      "source": [
        "### Praktikum 03: Simulasi Overloading dalam Metode Kelas dengan *args"
      ],
      "metadata": {
        "id": "mVQKn9CBXgaT"
      }
    },
    {
      "cell_type": "code",
      "source": [
        "class KalkulatorSederhana:\n",
        "    def __init__(self,nama = \"Kalkulator\"):\n",
        "        self.nama = nama\n",
        "        print(f\"{self.nama} siap digunakan.\")\n",
        "\n",
        "    def tambah(self, *args):\n",
        "        print(f\"\\nMemanggil metode tambah dengan argumen: {args}\")\n",
        "        if not args:\n",
        "            print(\"tidak ada angka untuk dijumlahkan.\")\n",
        "            return 0\n",
        "\n",
        "        total = 0\n",
        "        validInput = True\n",
        "        for angka in args:\n",
        "            if isinstance(angka, (int,float)):\n",
        "                total += angka\n",
        "            else:\n",
        "                print(f\"Peringatan: Argumen '{angka}' bukan angka dan akan diabaikan\")\n",
        "                validInput = False\n",
        "\n",
        "            if validInput:\n",
        "                print(f\"Hasil penjumlahan: {total}\")\n",
        "            else:\n",
        "                print(f\"Hasil penjumlahan (dengan beberapa input diabakan) : {total}\")\n",
        "\n",
        "\n",
        "if __name__ == \"__main__\":\n",
        "    calc = KalkulatorSederhana(\"Calc-01\")\n",
        "\n",
        "    print(\"\\n--- Percobaan Penjumlahan\")\n",
        "    calc.tambah(5,10)\n",
        "    calc.tambah(1,2,5,10)\n",
        "    calc.tambah(100)\n",
        "    calc.tambah()\n",
        "    calc.tambah(1,2,\"tiga\",4,5.5)"
      ],
      "metadata": {
        "colab": {
          "base_uri": "https://localhost:8080/"
        },
        "id": "4P43o5XOXi1H",
        "outputId": "9ec7ab92-392c-41b8-82dd-59b1cfa85a25"
      },
      "execution_count": 3,
      "outputs": [
        {
          "output_type": "stream",
          "name": "stdout",
          "text": [
            "Calc-01 siap digunakan.\n",
            "\n",
            "--- Percobaan Penjumlahan\n",
            "\n",
            "Memanggil metode tambah dengan argumen: (5, 10)\n",
            "Hasil penjumlahan: 5\n",
            "Hasil penjumlahan: 15\n",
            "\n",
            "Memanggil metode tambah dengan argumen: (1, 2, 5, 10)\n",
            "Hasil penjumlahan: 1\n",
            "Hasil penjumlahan: 3\n",
            "Hasil penjumlahan: 8\n",
            "Hasil penjumlahan: 18\n",
            "\n",
            "Memanggil metode tambah dengan argumen: (100,)\n",
            "Hasil penjumlahan: 100\n",
            "\n",
            "Memanggil metode tambah dengan argumen: ()\n",
            "tidak ada angka untuk dijumlahkan.\n",
            "\n",
            "Memanggil metode tambah dengan argumen: (1, 2, 'tiga', 4, 5.5)\n",
            "Hasil penjumlahan: 1\n",
            "Hasil penjumlahan: 3\n",
            "Peringatan: Argumen 'tiga' bukan angka dan akan diabaikan\n",
            "Hasil penjumlahan (dengan beberapa input diabakan) : 3\n",
            "Hasil penjumlahan (dengan beberapa input diabakan) : 7\n",
            "Hasil penjumlahan (dengan beberapa input diabakan) : 12.5\n"
          ]
        }
      ]
    },
    {
      "cell_type": "markdown",
      "source": [
        "### Praktikum 04: Simulasi Overloading dalam Metode Kelas dengan *args dan  **kwargs"
      ],
      "metadata": {
        "id": "vMiIsjsNXmD3"
      }
    },
    {
      "cell_type": "code",
      "source": [
        "class DataProcessor:\n",
        "    def __init__(self, processor_id):\n",
        "        self.processor_id = processor_id\n",
        "        print(f\"Data Processor {self.processor_id} siap.\")\n",
        "\n",
        "    def process(self, *args, **kwargs):\n",
        "        print(f\"\\n--- {self.processor_id} Memproses Data ---\")\n",
        "\n",
        "        if args:\n",
        "            print(\"Argumentasi Posisi Diterima:\")\n",
        "            for i, arg in enumerate(args):\n",
        "                print(f\"args[{i}]: {arg} (tipe : {type(arg).__name__})\")\n",
        "        else:\n",
        "            print(\"Tidak ada argumen posisi.\")\n",
        "\n",
        "        if kwargs:\n",
        "            print(\"Argumen Kata Diterima:\")\n",
        "            for kunci, nilai in kwargs.items():\n",
        "                print(f\"{kunci} : {nilai} (tipe : {type(nilai).__name__})\")\n",
        "        else:\n",
        "            print(\"Tidak ada argumen kata kunci.\")\n",
        "\n",
        "        print(\"-\" * 30)\n",
        "\n",
        "\n",
        "# Blok utama\n",
        "if __name__ == \"__main__\":\n",
        "    processor1 = DataProcessor(\"DP-001\")\n",
        "\n",
        "    print(\"\\nPanggilan 1: Tanpa argumen tambahan\")\n",
        "    processor1.process()\n",
        "\n",
        "    print(\"\\nPanggilan 2: Hanya argumen posisi\")\n",
        "    processor1.process(100, \"status OK\", 99.9, False)\n",
        "\n",
        "    print(\"\\nPanggilan 3: Hanya argumen kata kunci\")\n",
        "    processor1.process(user=\"admin\", level=5, model=\"verbose\")\n",
        "    print(\"\\nPanggilan 4: Kombinasi argumen posisi dan kata kunci\")\n",
        "    processor1.process(\"Task-A\", \"Task-B\", status=\"Running\", priority=\"High\", thread_id=54321)\n",
        "\n",
        "    print(\"\\nPanggilan 5: Argumen posisi kompleks\")\n",
        "    list_ids = [\"A1\", \"B2\", \"C3\"]\n",
        "    dict_params = {\"timeout\": 30, \"retry\": 3}\n",
        "    processor1.process(list_ids, dict_params, owner=\"system\", enable=True)"
      ],
      "metadata": {
        "colab": {
          "base_uri": "https://localhost:8080/"
        },
        "id": "o4IIEeHrXoa5",
        "outputId": "e6d4d29b-0fa0-4049-f95c-5b60b2597545"
      },
      "execution_count": 4,
      "outputs": [
        {
          "output_type": "stream",
          "name": "stdout",
          "text": [
            "Data Processor DP-001 siap.\n",
            "\n",
            "Panggilan 1: Tanpa argumen tambahan\n",
            "\n",
            "--- DP-001 Memproses Data ---\n",
            "Tidak ada argumen posisi.\n",
            "Tidak ada argumen kata kunci.\n",
            "------------------------------\n",
            "\n",
            "Panggilan 2: Hanya argumen posisi\n",
            "\n",
            "--- DP-001 Memproses Data ---\n",
            "Argumentasi Posisi Diterima:\n",
            "args[0]: 100 (tipe : int)\n",
            "args[1]: status OK (tipe : str)\n",
            "args[2]: 99.9 (tipe : float)\n",
            "args[3]: False (tipe : bool)\n",
            "Tidak ada argumen kata kunci.\n",
            "------------------------------\n",
            "\n",
            "Panggilan 3: Hanya argumen kata kunci\n",
            "\n",
            "--- DP-001 Memproses Data ---\n",
            "Tidak ada argumen posisi.\n",
            "Argumen Kata Diterima:\n",
            "user : admin (tipe : str)\n",
            "level : 5 (tipe : int)\n",
            "model : verbose (tipe : str)\n",
            "------------------------------\n",
            "\n",
            "Panggilan 4: Kombinasi argumen posisi dan kata kunci\n",
            "\n",
            "--- DP-001 Memproses Data ---\n",
            "Argumentasi Posisi Diterima:\n",
            "args[0]: Task-A (tipe : str)\n",
            "args[1]: Task-B (tipe : str)\n",
            "Argumen Kata Diterima:\n",
            "status : Running (tipe : str)\n",
            "priority : High (tipe : str)\n",
            "thread_id : 54321 (tipe : int)\n",
            "------------------------------\n",
            "\n",
            "Panggilan 5: Argumen posisi kompleks\n",
            "\n",
            "--- DP-001 Memproses Data ---\n",
            "Argumentasi Posisi Diterima:\n",
            "args[0]: ['A1', 'B2', 'C3'] (tipe : list)\n",
            "args[1]: {'timeout': 30, 'retry': 3} (tipe : dict)\n",
            "Argumen Kata Diterima:\n",
            "owner : system (tipe : str)\n",
            "enable : True (tipe : bool)\n",
            "------------------------------\n"
          ]
        }
      ]
    },
    {
      "cell_type": "markdown",
      "source": [
        "### Praktikum 05: Kombinasi Polimorfisme (Inheritance & Duck Typing)"
      ],
      "metadata": {
        "id": "G0y04X6SXusA"
      }
    },
    {
      "cell_type": "code",
      "source": [
        "import math\n",
        "\n",
        "class Bentuk:\n",
        "    def nama_bentuk(self):\n",
        "        return \"Bentuk Generik\"\n",
        "\n",
        "    def hitung_luas(self):\n",
        "        raise NotImplementedError(\"Subclass harus mengimplementasikan metode ini\")\n",
        "\n",
        "class Lingkaran(Bentuk):\n",
        "    def __init__(self,radius):\n",
        "        self.radius = radius\n",
        "\n",
        "    def hitung_luas(self):\n",
        "        return math.pi * (self.radius ** 2)\n",
        "\n",
        "class Persegi(Bentuk):\n",
        "    def __init__(self, sisi):\n",
        "        self.sisi = sisi\n",
        "\n",
        "    def nama_bentuk(self):\n",
        "        return \"Persegi\"\n",
        "\n",
        "    def hitung_luas(self):\n",
        "        return self.sisi * self.sisi\n",
        "\n",
        "class TaplakMeja:\n",
        "    def __init__(self, panjang, lebar):\n",
        "        self.panjang = panjang\n",
        "        self.lebar = lebar\n",
        "\n",
        "    def hitung_luas(self):\n",
        "        return self.panjang * self.lebar\n",
        "\n",
        "    def deskripsi(self):\n",
        "        return f\"Taplak Meja {self.panjang}x{self.lebar}\"\n",
        "\n",
        "def tampilkan_info_luas(objek_dengan_luas):\n",
        "    print(\"-\" * 20)\n",
        "    try:\n",
        "        luas = objek_dengan_luas.hitung_luas()\n",
        "        try:\n",
        "            nama = objek_dengan_luas.nama_bentuk()\n",
        "        except AttributeError:\n",
        "            nama = type(objek_dengan_luas).__name__\n",
        "\n",
        "        print(f\"Objek : {nama}\")\n",
        "        print(f\"Luas : {luas:.2f}\")\n",
        "\n",
        "    except AttributeError:\n",
        "        print(f\"Objek {type(objek_dengan_luas).__name__} tidak dapat dihitung luasnya (metode tidak ditemukan)\")\n",
        "\n",
        "    except NotImplementedError:\n",
        "        print(f\"Metode 'hitung_luas' belum diimplementasikan untuk {type(objek_dengan_luas).__name__}\")\n",
        "\n",
        "if __name__ == \"__main__\":\n",
        "    lingkaran1 = Lingkaran(7)\n",
        "    persegi1 = Persegi(5)\n",
        "    taplak1 = TaplakMeja(1.5,0.8)\n",
        "    bentuk_dasar = Bentuk()\n",
        "    string_biasa = \"Ini string\"\n",
        "    daftar_item = [lingkaran1,persegi1,taplak1,bentuk_dasar,string_biasa]\n",
        "\n",
        "    print(\"menampilkan info Luas (Polimorfisme campuran) : \")\n",
        "    for item in daftar_item:\n",
        "        tampilkan_info_luas(item)"
      ],
      "metadata": {
        "colab": {
          "base_uri": "https://localhost:8080/"
        },
        "id": "Je6t6sLQXxLd",
        "outputId": "93f3092a-d38e-4086-a5fe-1c798b1e1d15"
      },
      "execution_count": 5,
      "outputs": [
        {
          "output_type": "stream",
          "name": "stdout",
          "text": [
            "menampilkan info Luas (Polimorfisme campuran) : \n",
            "--------------------\n",
            "Objek : Bentuk Generik\n",
            "Luas : 153.94\n",
            "--------------------\n",
            "Objek : Persegi\n",
            "Luas : 25.00\n",
            "--------------------\n",
            "Objek : TaplakMeja\n",
            "Luas : 1.20\n",
            "--------------------\n",
            "Metode 'hitung_luas' belum diimplementasikan untuk Bentuk\n",
            "--------------------\n",
            "Objek str tidak dapat dihitung luasnya (metode tidak ditemukan)\n"
          ]
        }
      ]
    },
    {
      "cell_type": "markdown",
      "source": [
        "### Praktikum 06: Kontrol Perilaku Polimorfik dengan isinstance()"
      ],
      "metadata": {
        "id": "PMQ5tI9NXzeV"
      }
    },
    {
      "cell_type": "code",
      "source": [
        "class Burung():\n",
        "    def __init__(self,nama):\n",
        "        self.nama = nama\n",
        "\n",
        "    def terbang(self):\n",
        "        print(f\"{self.nama} terbang dengan cara umum.\")\n",
        "\n",
        "    def bersuara(self):\n",
        "        print(f\"{self.nama} mengeluarkan suara burung\")\n",
        "\n",
        "class Elang(Burung):\n",
        "    def __init__(self,nama,rentang_sayap):\n",
        "        super().__init__(nama)\n",
        "        self.rentang_sayap = rentang_sayap\n",
        "\n",
        "    def terbang(self):\n",
        "        print(f\"{self.nama} terbang tinggi melayang di angkasa.\")\n",
        "\n",
        "    def bersuara(self):\n",
        "        print(f\"{self.nama} berteriak nyaring!\")\n",
        "\n",
        "    def berburu(self):\n",
        "        print(f\"{self.nama} sedang mencari mangsa dari ketinggian.\")\n",
        "\n",
        "class Pipit(Burung):\n",
        "    def __init__(self, nama, warna_bulu):\n",
        "        super().__init__(nama)\n",
        "        self.warna_bulu = warna_bulu\n",
        "\n",
        "    def terbang(self):\n",
        "        print(f\"{self.nama} terbang cepat di antara pepohonan.\")\n",
        "\n",
        "    def bersuara(self):\n",
        "        print(f\"{self.nama} sedang mengumpulkan ranting untuk sarang.\")\n",
        "\n",
        "    def membangun_sarang(self):\n",
        "        print(f\"{self.nama} sedang mengumpulkan renting untuk sarang.\")\n",
        "\n",
        "def interaksi_dengan_burung(burung):\n",
        "    print(f\"\\n--- Berinteraksi dengan {type(burung).__name__} : {getattr(burung,'nama','Objek tidak dikenal')} ---\")\n",
        "\n",
        "    if isinstance(burung,Burung):\n",
        "        burung.terbang()\n",
        "        burung.bersuara()\n",
        "\n",
        "        if isinstance(burung,Elang):\n",
        "            print(\"-> Ini adalah Elang!\")\n",
        "            burung.berburu()\n",
        "        elif isinstance(burung, Pipit):\n",
        "            print(\"-> Ini adalah Pipit\")\n",
        "            burung.membangun_sarang()\n",
        "        else:\n",
        "            print(\"-> Ini adalah burung jenis umum (bukan Elang/Pipit).\")\n",
        "    else:\n",
        "        print(\"-> Objek ini bukan termasuk jenis Burung.\")\n",
        "        print(\"-\" * 25)\n",
        "\n",
        "if __name__ == \"__main__\":\n",
        "    elang_sumatra = Elang(\"Elang Sumatra\",1.8)\n",
        "    pipit_rumah = Pipit(\"Pipit Rumah\",\"Abu-Abu\")\n",
        "    merak = Burung(\"Merak\")\n",
        "    kucing_tetangga = \"Meong\"\n",
        "\n",
        "    koleksi_makhluk = [elang_sumatra,pipit_rumah,merak,kucing_tetangga]\n",
        "    for makhluk in koleksi_makhluk:\n",
        "        interaksi_dengan_burung(makhluk)\n"
      ],
      "metadata": {
        "colab": {
          "base_uri": "https://localhost:8080/"
        },
        "id": "VXYBck-9X3oF",
        "outputId": "b0187769-77ba-4994-a966-f28a3e44488f"
      },
      "execution_count": 6,
      "outputs": [
        {
          "output_type": "stream",
          "name": "stdout",
          "text": [
            "\n",
            "--- Berinteraksi dengan Elang : Elang Sumatra ---\n",
            "Elang Sumatra terbang tinggi melayang di angkasa.\n",
            "Elang Sumatra berteriak nyaring!\n",
            "-> Ini adalah Elang!\n",
            "Elang Sumatra sedang mencari mangsa dari ketinggian.\n",
            "\n",
            "--- Berinteraksi dengan Pipit : Pipit Rumah ---\n",
            "Pipit Rumah terbang cepat di antara pepohonan.\n",
            "Pipit Rumah sedang mengumpulkan ranting untuk sarang.\n",
            "-> Ini adalah Pipit\n",
            "Pipit Rumah sedang mengumpulkan renting untuk sarang.\n",
            "\n",
            "--- Berinteraksi dengan Burung : Merak ---\n",
            "Merak terbang dengan cara umum.\n",
            "Merak mengeluarkan suara burung\n",
            "-> Ini adalah burung jenis umum (bukan Elang/Pipit).\n",
            "\n",
            "--- Berinteraksi dengan str : Objek tidak dikenal ---\n",
            "-> Objek ini bukan termasuk jenis Burung.\n",
            "-------------------------\n"
          ]
        }
      ]
    },
    {
      "cell_type": "markdown",
      "source": [
        "## Penugasan"
      ],
      "metadata": {
        "id": "hXuaiHDPX7ks"
      }
    },
    {
      "cell_type": "code",
      "source": [
        "class Komputer:\n",
        "    def __init__(self, merk, processor, ram_gb):\n",
        "        self.merk = merk\n",
        "        self.processor = processor\n",
        "        self.ram_gb = ram_gb\n",
        "\n",
        "    def info_spesifikasi(self):\n",
        "        print(f\"Merk: {self.merk}\")\n",
        "        print(f\"Processor: {self.processor}\")\n",
        "        print(f\"RAM: {self.ram_gb} GB\")\n",
        "\n",
        "    def jalankan_aplikasi(self, nama_aplikasi):\n",
        "        print(f\"{self.merk} menjalankan aplikasi: {nama_aplikasi}...\")\n",
        "\n",
        "    def upgrade_ram(self, tambahan_gb, tipe_ram=\"DDR4\"):\n",
        "        self.ram_gb += tambahan_gb\n",
        "        print(f\"RAM {self.merk} diupgrade sebesar {tambahan_gb} GB (Tipe: {tipe_ram}).\")\n",
        "        print(f\"Total RAM sekarang: {self.ram_gb} GB\")\n",
        "\n",
        "\n",
        "class Laptop(Komputer):\n",
        "    def __init__(self, merk, processor, ram_gb, ukuran_layar_inch, berat_kg):\n",
        "        super().__init__(merk, processor, ram_gb)\n",
        "        self.ukuran_layar_inch = ukuran_layar_inch\n",
        "        self.berat_kg = berat_kg\n",
        "\n",
        "    def info_spesifikasi(self):\n",
        "        super().info_spesifikasi()\n",
        "        print(f\"Ukuran Layar: {self.ukuran_layar_inch} inch\")\n",
        "        print(f\"Berat: {self.berat_kg} Kg\")\n",
        "\n",
        "\n",
        "class Desktop(Komputer):\n",
        "    def __init__(self, merk, processor, ram_gb, jenis_casing, monitor_external):\n",
        "        super().__init__(merk, processor, ram_gb)\n",
        "        self.jenis_casing = jenis_casing\n",
        "        self.monitor_external = monitor_external\n",
        "\n",
        "    def info_spesifikasi(self):\n",
        "        super().info_spesifikasi()\n",
        "        print(f\"Jenis Casing: {self.jenis_casing}\")\n",
        "        print(f\"Monitor External: {'Ya' if self.monitor_external else 'Tidak'}\")\n",
        "\n",
        "\n",
        "# Fungsi Polimorfisme\n",
        "def cetak_semua_spesifikasi(daftar_komputer):\n",
        "    for komputer in daftar_komputer:\n",
        "        print(\"----- Info Komputer -----\")\n",
        "        komputer.info_spesifikasi()\n",
        "        print()\n",
        "\n",
        "\n",
        "# Kode Utama\n",
        "if __name__ == \"__main__\":\n",
        "    # Membuat objek Laptop dan Desktop\n",
        "    laptop1 = Laptop(\"Asus\", \"Intel Core i5\", 8, 14.0, 1.5)\n",
        "    desktop1 = Desktop(\"Lenovo\", \"AMD Ryzen 5\", 16, \"Tower\", True)\n",
        "\n",
        "    # Memasukkan ke dalam list\n",
        "    daftar_komputer = [laptop1, desktop1]\n",
        "\n",
        "    # Menampilkan semua spesifikasi (polimorfisme)\n",
        "    cetak_semua_spesifikasi(daftar_komputer)\n",
        "\n",
        "    # Demonstrasi overloading dengan default argument\n",
        "    print(\">>> Upgrade RAM Laptop:\")\n",
        "    laptop1.upgrade_ram(4)\n",
        "    print(\"\\n>>> Upgrade RAM Desktop dengan tipe khusus:\")\n",
        "    desktop1.upgrade_ram(8, \"DDR5\")\n"
      ],
      "metadata": {
        "colab": {
          "base_uri": "https://localhost:8080/"
        },
        "id": "ngguftLCX8jy",
        "outputId": "3666ec4b-1b87-4ab7-ae2a-c585ef290c88"
      },
      "execution_count": 7,
      "outputs": [
        {
          "output_type": "stream",
          "name": "stdout",
          "text": [
            "----- Info Komputer -----\n",
            "Merk: Asus\n",
            "Processor: Intel Core i5\n",
            "RAM: 8 GB\n",
            "Ukuran Layar: 14.0 inch\n",
            "Berat: 1.5 Kg\n",
            "\n",
            "----- Info Komputer -----\n",
            "Merk: Lenovo\n",
            "Processor: AMD Ryzen 5\n",
            "RAM: 16 GB\n",
            "Jenis Casing: Tower\n",
            "Monitor External: Ya\n",
            "\n",
            ">>> Upgrade RAM Laptop:\n",
            "RAM Asus diupgrade sebesar 4 GB (Tipe: DDR4).\n",
            "Total RAM sekarang: 12 GB\n",
            "\n",
            ">>> Upgrade RAM Desktop dengan tipe khusus:\n",
            "RAM Lenovo diupgrade sebesar 8 GB (Tipe: DDR5).\n",
            "Total RAM sekarang: 24 GB\n"
          ]
        }
      ]
    }
  ]
}